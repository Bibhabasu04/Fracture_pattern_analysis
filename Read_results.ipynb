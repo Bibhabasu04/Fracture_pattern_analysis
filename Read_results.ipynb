{
 "cells": [
  {
   "cell_type": "code",
   "execution_count": 25,
   "id": "d2647224-2b77-46d4-b614-8f7580a99a54",
   "metadata": {},
   "outputs": [],
   "source": [
    "import matplotlib.pyplot as plt\n",
    "import scipy.io as spi\n",
    "import numpy as np\n",
    "file = spi.loadmat(\"D:/Projects/Geology Project/vein_data_dip_direction_k2_-506.90024.mat\")"
   ]
  },
  {
   "cell_type": "code",
   "execution_count": 26,
   "id": "dbe3c019-233a-4726-ae82-b627e0dd8163",
   "metadata": {},
   "outputs": [
    {
     "data": {
      "text/plain": [
       "dict_keys(['__header__', '__version__', '__globals__', 'BIC', 'Best_fitness', 'Best_one', 'Best_one_idx', 'Bound', 'Dat_ap', 'Delta_g', 'E', 'Fitness_descend', 'Fitness_table', 'K', 'L', 'M', 'Max_generation', 'Nm', 'Np', 'Nv', 'Population', 'Pv', 'Rank', 'UNDX_alpha', 'UNDX_beta', 'X', 'axap', 'best_ind', 'best_is_updated', 'child', 'conv_cond', 'dL', 'datatype', 'dummy1', 'dummy2', 'None', 'filename', 'filename_minus_ext', 'generation', 'generation_last_updated', 'gn', 'historyBest', 'i', 'ianimation', 'id_parents', 'ip', 'k', 'kappa', 'minusL', 'minusL0', 'n', 'nem', 'pathname', 'removed_ind', 's', 'show_history', 'varpi', 'z', '__function_workspace__'])"
      ]
     },
     "execution_count": 26,
     "metadata": {},
     "output_type": "execute_result"
    }
   ],
   "source": [
    "file.keys()"
   ]
  },
  {
   "cell_type": "code",
   "execution_count": 27,
   "id": "2851197d-4039-40ec-b09b-e77c0543c68e",
   "metadata": {},
   "outputs": [
    {
     "name": "stdout",
     "output_type": "stream",
     "text": [
      "Key: BIC, Shape: (1, 1)\n",
      "Key: Best_fitness, Shape: (1, 1)\n",
      "Key: Best_one, Shape: (1, 10)\n",
      "Key: Best_one_idx, Shape: (1, 1)\n",
      "Key: Bound, Shape: (1, 1)\n",
      "Key: Dat_ap, Shape: (267, 2)\n",
      "Key: Delta_g, Shape: (1, 1)\n",
      "Key: E, Shape: (3, 3, 2)\n",
      "Key: Fitness_descend, Shape: (20, 1)\n",
      "Key: Fitness_table, Shape: (20, 1)\n",
      "Key: K, Shape: (1, 1)\n",
      "Key: L, Shape: (1, 1)\n",
      "Key: M, Shape: (1, 303)\n",
      "Key: Max_generation, Shape: (1, 1)\n",
      "Key: Nm, Shape: (1, 1)\n",
      "Key: Np, Shape: (1, 1)\n",
      "Key: Nv, Shape: (1, 1)\n",
      "Key: Population, Shape: (20, 10)\n",
      "Key: Pv, Shape: (267, 3)\n",
      "Key: Rank, Shape: (20, 1)\n",
      "Key: UNDX_alpha, Shape: (1, 1)\n",
      "Key: UNDX_beta, Shape: (1, 1)\n",
      "Key: X, Shape: (1, 10)\n",
      "Key: axap, Shape: (1, 12)\n",
      "Key: best_ind, Shape: (1, 10)\n",
      "Key: best_is_updated, Shape: (1, 1)\n",
      "Key: child, Shape: (2, 10)\n",
      "Key: conv_cond, Shape: (1, 1)\n",
      "Key: dL, Shape: (1, 1)\n",
      "Key: datatype, Shape: (1,)\n",
      "Key: dummy1, Shape: (0,)\n",
      "Key: dummy2, Shape: (1,)\n",
      "Key: None, Shape: (1,)\n",
      "Key: filename, Shape: (1,)\n",
      "Key: filename_minus_ext, Shape: (1,)\n",
      "Key: generation, Shape: (1, 1)\n",
      "Key: generation_last_updated, Shape: (1, 1)\n",
      "Key: gn, Shape: (1,)\n",
      "Key: historyBest, Shape: (50001, 1)\n",
      "Key: i, Shape: (1, 1)\n",
      "Key: ianimation, Shape: (1, 1)\n",
      "Key: id_parents, Shape: (3, 1)\n",
      "Key: ip, Shape: (1, 1)\n",
      "Key: k, Shape: (1, 1)\n",
      "Key: kappa, Shape: (2, 2)\n",
      "Key: minusL, Shape: (1, 1)\n",
      "Key: minusL0, Shape: (1, 1)\n",
      "Key: n, Shape: (1, 1)\n",
      "Key: nem, Shape: (1, 1)\n",
      "Key: pathname, Shape: (1,)\n",
      "Key: removed_ind, Shape: (2, 1)\n",
      "Key: s, Shape: (1, 1)\n",
      "Key: show_history, Shape: (1, 1)\n",
      "Key: varpi, Shape: (1, 2)\n",
      "Key: z, Shape: (267, 2)\n"
     ]
    }
   ],
   "source": [
    "numpy_dict = {}\n",
    "\n",
    "# Loop through all keys in the mat file\n",
    "for key in file.keys():\n",
    "    # Skip MATLAB's default keys (these usually start with '__')\n",
    "    if not key.startswith('__'):\n",
    "        # Access the data\n",
    "        data = file[key]\n",
    "        \n",
    "        # Ensure the data is in NumPy array format\n",
    "        if isinstance(data, np.ndarray):\n",
    "            numpy_dict[key] = data\n",
    "        else:\n",
    "            numpy_dict[key] = np.array(data, dtype = 'int')  # Convert to NumPy array if necessary\n",
    "\n",
    "# Now, you can access any key's data as a NumPy array\n",
    "for key in numpy_dict:\n",
    "    print(f\"Key: {key}, Shape: {numpy_dict[key].shape}\")"
   ]
  },
  {
   "cell_type": "code",
   "execution_count": 34,
   "id": "27720260-15a6-49fc-bdb0-2b2ef1f7b6f9",
   "metadata": {},
   "outputs": [
    {
     "data": {
      "text/plain": [
       "7610"
      ]
     },
     "execution_count": 34,
     "metadata": {},
     "output_type": "execute_result"
    }
   ],
   "source": [
    "a = file['generation'][0][0]\n",
    "a"
   ]
  },
  {
   "cell_type": "code",
   "execution_count": 36,
   "id": "7aa82855-cdeb-45e1-8e82-e9a6a32a1277",
   "metadata": {},
   "outputs": [],
   "source": [
    "H = file['historyBest']"
   ]
  },
  {
   "cell_type": "code",
   "execution_count": 37,
   "id": "5e7683e1-22a0-456e-b5fb-9ab1b4feab79",
   "metadata": {},
   "outputs": [
    {
     "data": {
      "text/plain": [
       "[<matplotlib.lines.Line2D at 0x176a689f210>]"
      ]
     },
     "execution_count": 37,
     "metadata": {},
     "output_type": "execute_result"
    },
    {
     "data": {
      "image/png": "[encoded data removed]",
      "text/plain": [
       "<Figure size 640x480 with 1 Axes>"
      ]
     },
     "metadata": {},
     "output_type": "display_data"
    }
   ],
   "source": [
    "plt.plot(H[:a])"
   ]
  }
 ],
 "metadata": {
  "kernelspec": {
   "display_name": "Python 3 (ipykernel)",
   "language": "python",
   "name": "python3"
  },
  "language_info": {
   "codemirror_mode": {
    "name": "ipython",
    "version": 3
   },
   "file_extension": ".py",
   "mimetype": "text/x-python",
   "name": "python",
   "nbconvert_exporter": "python",
   "pygments_lexer": "ipython3",
   "version": "3.11.3"
  }
 },
 "nbformat": 4,
 "nbformat_minor": 5
}
